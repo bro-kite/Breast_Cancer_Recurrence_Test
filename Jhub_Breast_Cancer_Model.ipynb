{
  "nbformat": 4,
  "nbformat_minor": 0,
  "metadata": {
    "kernelspec": {
      "display_name": "Python 3",
      "language": "python",
      "name": "python3"
    },
    "language_info": {
      "codemirror_mode": {
        "name": "ipython",
        "version": 3
      },
      "file_extension": ".py",
      "mimetype": "text/x-python",
      "name": "python",
      "nbconvert_exporter": "python",
      "pygments_lexer": "ipython3",
      "version": "3.7.4"
    },
    "colab": {
      "name": "Jhub_Breast_Cancer_Model.ipynb",
      "provenance": [],
      "toc_visible": true,
      "include_colab_link": true
    }
  },
  "cells": [
    {
      "cell_type": "markdown",
      "metadata": {
        "id": "view-in-github",
        "colab_type": "text"
      },
      "source": [
        "<a href=\"https://colab.research.google.com/github/bro-kite/Breast_Recurrence_Test/blob/master/Jhub_Breast_Cancer_Model.ipynb\" target=\"_parent\"><img src=\"https://colab.research.google.com/assets/colab-badge.svg\" alt=\"Open In Colab\"/></a>"
      ]
    },
    {
      "cell_type": "code",
      "metadata": {
        "id": "DssoDn-O8NXZ",
        "colab_type": "code",
        "colab": {}
      },
      "source": [
        "import pytest\n",
        "import pandas as pd\n",
        "import numpy as np\n",
        "import scipy as sp\n",
        "import matplotlib.pyplot as plt\n",
        "import seaborn as sns"
      ],
      "execution_count": null,
      "outputs": []
    },
    {
      "cell_type": "code",
      "metadata": {
        "id": "zP9FBPzA8NXr",
        "colab_type": "code",
        "colab": {}
      },
      "source": [
        "# Import data\n",
        "\n",
        "def import_local_data(file_path):\n",
        "    \"\"\"This function needs to import the data file into collab and return a pandas dataframe\n",
        "    \"\"\"\n",
        "    raw_df = pd.read_excel(file_path)\n",
        "\n",
        "\n",
        "    return raw_df"
      ],
      "execution_count": null,
      "outputs": []
    },
    {
      "cell_type": "code",
      "metadata": {
        "id": "ausYHgrM8NX4",
        "colab_type": "code",
        "colab": {}
      },
      "source": [
        "local_file_path = \"breast-cancer.xls\""
      ],
      "execution_count": null,
      "outputs": []
    },
    {
      "cell_type": "code",
      "metadata": {
        "id": "aoLoh8SR8NYJ",
        "colab_type": "code",
        "colab": {}
      },
      "source": [
        "# Dont change\n",
        "raw_data = import_local_data(local_file_path)"
      ],
      "execution_count": null,
      "outputs": []
    },
    {
      "cell_type": "markdown",
      "metadata": {
        "id": "qy_5eCAV8NYU",
        "colab_type": "text"
      },
      "source": [
        "### Conduct exploratory data analysis and explain your key findings - Examine the data, explain its key features and what they look like.  Highlight any fields that are anomalous."
      ]
    },
    {
      "cell_type": "code",
      "metadata": {
        "id": "zVUSVtHR_sXl",
        "colab_type": "code",
        "colab": {
          "base_uri": "https://localhost:8080/",
          "height": 340
        },
        "outputId": "2840fa7d-b7ce-49ac-8416-b860d003869a"
      },
      "source": [
        "raw_data.head()"
      ],
      "execution_count": null,
      "outputs": [
        {
          "output_type": "execute_result",
          "data": {
            "text/html": [
              "<div>\n",
              "<style scoped>\n",
              "    .dataframe tbody tr th:only-of-type {\n",
              "        vertical-align: middle;\n",
              "    }\n",
              "\n",
              "    .dataframe tbody tr th {\n",
              "        vertical-align: top;\n",
              "    }\n",
              "\n",
              "    .dataframe thead th {\n",
              "        text-align: right;\n",
              "    }\n",
              "</style>\n",
              "<table border=\"1\" class=\"dataframe\">\n",
              "  <thead>\n",
              "    <tr style=\"text-align: right;\">\n",
              "      <th></th>\n",
              "      <th>age</th>\n",
              "      <th>tumor-size</th>\n",
              "      <th>inv-nodes</th>\n",
              "      <th>deg-malig</th>\n",
              "      <th>menopause</th>\n",
              "      <th>breast-quad</th>\n",
              "      <th>node-caps</th>\n",
              "      <th>breast</th>\n",
              "      <th>irradiat</th>\n",
              "      <th>Class</th>\n",
              "    </tr>\n",
              "  </thead>\n",
              "  <tbody>\n",
              "    <tr>\n",
              "      <th>0</th>\n",
              "      <td>40-49</td>\n",
              "      <td>15-19</td>\n",
              "      <td>0-2</td>\n",
              "      <td>3</td>\n",
              "      <td>premeno</td>\n",
              "      <td>left_up</td>\n",
              "      <td>yes</td>\n",
              "      <td>right</td>\n",
              "      <td>no</td>\n",
              "      <td>recurrence-events</td>\n",
              "    </tr>\n",
              "    <tr>\n",
              "      <th>1</th>\n",
              "      <td>50-59</td>\n",
              "      <td>15-19</td>\n",
              "      <td>0-2</td>\n",
              "      <td>1</td>\n",
              "      <td>ge40</td>\n",
              "      <td>central</td>\n",
              "      <td>no</td>\n",
              "      <td>right</td>\n",
              "      <td>no</td>\n",
              "      <td>no-recurrence-events</td>\n",
              "    </tr>\n",
              "    <tr>\n",
              "      <th>2</th>\n",
              "      <td>50-59</td>\n",
              "      <td>35-39</td>\n",
              "      <td>0-2</td>\n",
              "      <td>2</td>\n",
              "      <td>ge40</td>\n",
              "      <td>left_low</td>\n",
              "      <td>no</td>\n",
              "      <td>left</td>\n",
              "      <td>no</td>\n",
              "      <td>recurrence-events</td>\n",
              "    </tr>\n",
              "    <tr>\n",
              "      <th>3</th>\n",
              "      <td>40-49</td>\n",
              "      <td>35-39</td>\n",
              "      <td>0-2</td>\n",
              "      <td>3</td>\n",
              "      <td>premeno</td>\n",
              "      <td>left_low</td>\n",
              "      <td>yes</td>\n",
              "      <td>right</td>\n",
              "      <td>yes</td>\n",
              "      <td>no-recurrence-events</td>\n",
              "    </tr>\n",
              "    <tr>\n",
              "      <th>4</th>\n",
              "      <td>40-49</td>\n",
              "      <td>30-34</td>\n",
              "      <td>2019-05-03 00:00:00</td>\n",
              "      <td>2</td>\n",
              "      <td>premeno</td>\n",
              "      <td>right_up</td>\n",
              "      <td>yes</td>\n",
              "      <td>left</td>\n",
              "      <td>no</td>\n",
              "      <td>recurrence-events</td>\n",
              "    </tr>\n",
              "  </tbody>\n",
              "</table>\n",
              "</div>"
            ],
            "text/plain": [
              "     age tumor-size            inv-nodes  ...  breast irradiat                 Class\n",
              "0  40-49      15-19                  0-2  ...   right       no     recurrence-events\n",
              "1  50-59      15-19                  0-2  ...   right       no  no-recurrence-events\n",
              "2  50-59      35-39                  0-2  ...    left       no     recurrence-events\n",
              "3  40-49      35-39                  0-2  ...   right      yes  no-recurrence-events\n",
              "4  40-49      30-34  2019-05-03 00:00:00  ...    left       no     recurrence-events\n",
              "\n",
              "[5 rows x 10 columns]"
            ]
          },
          "metadata": {
            "tags": []
          },
          "execution_count": 13
        }
      ]
    },
    {
      "cell_type": "markdown",
      "metadata": {
        "id": "z5_TCS-Ez2Jf",
        "colab_type": "text"
      },
      "source": [
        "###Dataset Information"
      ]
    },
    {
      "cell_type": "code",
      "metadata": {
        "id": "Q1ZmgNvTy53O",
        "colab_type": "code",
        "colab": {
          "base_uri": "https://localhost:8080/",
          "height": 306
        },
        "outputId": "472b2ac8-8543-4627-c769-ec74729d15f9"
      },
      "source": [
        "raw_data.info()"
      ],
      "execution_count": null,
      "outputs": [
        {
          "output_type": "stream",
          "text": [
            "<class 'pandas.core.frame.DataFrame'>\n",
            "RangeIndex: 286 entries, 0 to 285\n",
            "Data columns (total 10 columns):\n",
            " #   Column       Non-Null Count  Dtype \n",
            "---  ------       --------------  ----- \n",
            " 0   age          286 non-null    object\n",
            " 1   tumor-size   286 non-null    object\n",
            " 2   inv-nodes    286 non-null    object\n",
            " 3   deg-malig    286 non-null    int64 \n",
            " 4   menopause    286 non-null    object\n",
            " 5   breast-quad  286 non-null    object\n",
            " 6   node-caps    286 non-null    object\n",
            " 7   breast       286 non-null    object\n",
            " 8   irradiat     286 non-null    object\n",
            " 9   Class        286 non-null    object\n",
            "dtypes: int64(1), object(9)\n",
            "memory usage: 22.5+ KB\n"
          ],
          "name": "stdout"
        }
      ]
    },
    {
      "cell_type": "code",
      "metadata": {
        "id": "M444PLx1gvzm",
        "colab_type": "code",
        "colab": {}
      },
      "source": [
        "raw_data['inv-nodes'] =raw_data['inv-nodes'].astype(str)\n",
        "raw_data['tumor-size'] =raw_data['tumor-size'].astype(str)"
      ],
      "execution_count": null,
      "outputs": []
    },
    {
      "cell_type": "markdown",
      "metadata": {
        "id": "ivonKAEwI63D",
        "colab_type": "text"
      },
      "source": [
        "##Data Preprocessing"
      ]
    },
    {
      "cell_type": "markdown",
      "metadata": {
        "id": "b3p28adotBBI",
        "colab_type": "text"
      },
      "source": [
        "###Removing symbols and outliers in dataset"
      ]
    },
    {
      "cell_type": "code",
      "metadata": {
        "id": "F4s-Twi81fhM",
        "colab_type": "code",
        "colab": {}
      },
      "source": [
        "raw_data['inv-nodes'] = raw_data['inv-nodes'].apply(lambda X: X.replace('-',''))\n",
        "raw_data['inv-nodes'] = raw_data['inv-nodes'].apply(lambda X: X.replace('1517','2'))\n",
        "raw_data['inv-nodes'] = raw_data['inv-nodes'].apply(lambda X: X.replace('2426','2'))"
      ],
      "execution_count": null,
      "outputs": []
    },
    {
      "cell_type": "code",
      "metadata": {
        "id": "mWBt1kUs2VhP",
        "colab_type": "code",
        "colab": {}
      },
      "source": [
        "raw_data['age'] = raw_data['age'].apply(lambda X: X.replace('-',''))"
      ],
      "execution_count": null,
      "outputs": []
    },
    {
      "cell_type": "code",
      "metadata": {
        "id": "hcrRXMqFvQf8",
        "colab_type": "code",
        "colab": {}
      },
      "source": [
        "raw_data['tumor-size'] = raw_data['tumor-size'].apply(lambda X: X.replace('-',''))"
      ],
      "execution_count": null,
      "outputs": []
    },
    {
      "cell_type": "code",
      "metadata": {
        "id": "H-MbZwccvQTQ",
        "colab_type": "code",
        "colab": {}
      },
      "source": [
        "raw_data['inv-nodes'] = raw_data['inv-nodes'].apply(lambda X: X.replace('-',''))"
      ],
      "execution_count": null,
      "outputs": []
    },
    {
      "cell_type": "code",
      "metadata": {
        "id": "JoaCZYO_vP_U",
        "colab_type": "code",
        "colab": {}
      },
      "source": [
        "raw_data['Class'] = raw_data['Class'].apply(lambda X: X.replace('events',''))\n",
        "raw_data['Class'] = raw_data['Class'].apply(lambda X: X.replace('-',''))"
      ],
      "execution_count": null,
      "outputs": []
    },
    {
      "cell_type": "code",
      "metadata": {
        "id": "uBrQSfXyK-yE",
        "colab_type": "code",
        "colab": {}
      },
      "source": [
        "raw_data['breast-quad'] = raw_data['breast-quad'].apply(lambda X: X.replace('_',''))"
      ],
      "execution_count": null,
      "outputs": []
    },
    {
      "cell_type": "markdown",
      "metadata": {
        "id": "MrwURCL6oyvZ",
        "colab_type": "text"
      },
      "source": [
        "###Removing non-formatting entries from columns"
      ]
    },
    {
      "cell_type": "code",
      "metadata": {
        "id": "EYz5KcZRe7Jd",
        "colab_type": "code",
        "colab": {}
      },
      "source": [
        "raw_data.loc[raw_data['inv-nodes'].str.contains('201'), 'inv-nodes'] = np.nan"
      ],
      "execution_count": null,
      "outputs": []
    },
    {
      "cell_type": "code",
      "metadata": {
        "id": "CwxzlSk6GIJO",
        "colab_type": "code",
        "colab": {}
      },
      "source": [
        "raw_data.loc[raw_data['tumor-size'].str.contains('201'), 'tumor-size'] = np.nan"
      ],
      "execution_count": null,
      "outputs": []
    },
    {
      "cell_type": "markdown",
      "metadata": {
        "id": "bQ9g6XfwtZxF",
        "colab_type": "text"
      },
      "source": [
        "###Converting to Int Dtype"
      ]
    },
    {
      "cell_type": "code",
      "metadata": {
        "id": "rguT7VPnthIC",
        "colab_type": "code",
        "colab": {}
      },
      "source": [
        "raw_data['age'] = raw_data['age'].astype(str).astype(int)"
      ],
      "execution_count": null,
      "outputs": []
    },
    {
      "cell_type": "code",
      "metadata": {
        "id": "5URmo_FkxDT_",
        "colab_type": "code",
        "colab": {}
      },
      "source": [
        "raw_data['inv-nodes'] = raw_data['inv-nodes'].astype(float)"
      ],
      "execution_count": null,
      "outputs": []
    },
    {
      "cell_type": "code",
      "metadata": {
        "id": "hZJMG1GtxUOd",
        "colab_type": "code",
        "colab": {}
      },
      "source": [
        "raw_data['tumor-size'] = raw_data['tumor-size'].astype(float)"
      ],
      "execution_count": null,
      "outputs": []
    },
    {
      "cell_type": "code",
      "metadata": {
        "id": "ljm-X7kSxkHI",
        "colab_type": "code",
        "colab": {}
      },
      "source": [
        "raw_data['deg-malig'] = raw_data['deg-malig'].astype(str).astype(int)"
      ],
      "execution_count": null,
      "outputs": []
    },
    {
      "cell_type": "code",
      "metadata": {
        "id": "ATwoeJCYgXgF",
        "colab_type": "code",
        "colab": {
          "base_uri": "https://localhost:8080/",
          "height": 241
        },
        "outputId": "c80f6b9e-9cd2-43bb-c495-3b7e98b80b50"
      },
      "source": [
        "raw_data.head()"
      ],
      "execution_count": null,
      "outputs": [
        {
          "output_type": "execute_result",
          "data": {
            "text/html": [
              "<div>\n",
              "<style scoped>\n",
              "    .dataframe tbody tr th:only-of-type {\n",
              "        vertical-align: middle;\n",
              "    }\n",
              "\n",
              "    .dataframe tbody tr th {\n",
              "        vertical-align: top;\n",
              "    }\n",
              "\n",
              "    .dataframe thead th {\n",
              "        text-align: right;\n",
              "    }\n",
              "</style>\n",
              "<table border=\"1\" class=\"dataframe\">\n",
              "  <thead>\n",
              "    <tr style=\"text-align: right;\">\n",
              "      <th></th>\n",
              "      <th>age</th>\n",
              "      <th>tumor-size</th>\n",
              "      <th>inv-nodes</th>\n",
              "      <th>deg-malig</th>\n",
              "      <th>menopause</th>\n",
              "      <th>breast-quad</th>\n",
              "      <th>node-caps</th>\n",
              "      <th>breast</th>\n",
              "      <th>irradiat</th>\n",
              "      <th>Class</th>\n",
              "    </tr>\n",
              "  </thead>\n",
              "  <tbody>\n",
              "    <tr>\n",
              "      <th>0</th>\n",
              "      <td>4049</td>\n",
              "      <td>1519.0</td>\n",
              "      <td>2.0</td>\n",
              "      <td>3</td>\n",
              "      <td>premeno</td>\n",
              "      <td>leftup</td>\n",
              "      <td>yes</td>\n",
              "      <td>right</td>\n",
              "      <td>no</td>\n",
              "      <td>recurrence</td>\n",
              "    </tr>\n",
              "    <tr>\n",
              "      <th>1</th>\n",
              "      <td>5059</td>\n",
              "      <td>1519.0</td>\n",
              "      <td>2.0</td>\n",
              "      <td>1</td>\n",
              "      <td>ge40</td>\n",
              "      <td>central</td>\n",
              "      <td>no</td>\n",
              "      <td>right</td>\n",
              "      <td>no</td>\n",
              "      <td>norecurrence</td>\n",
              "    </tr>\n",
              "    <tr>\n",
              "      <th>2</th>\n",
              "      <td>5059</td>\n",
              "      <td>3539.0</td>\n",
              "      <td>2.0</td>\n",
              "      <td>2</td>\n",
              "      <td>ge40</td>\n",
              "      <td>leftlow</td>\n",
              "      <td>no</td>\n",
              "      <td>left</td>\n",
              "      <td>no</td>\n",
              "      <td>recurrence</td>\n",
              "    </tr>\n",
              "    <tr>\n",
              "      <th>3</th>\n",
              "      <td>4049</td>\n",
              "      <td>3539.0</td>\n",
              "      <td>2.0</td>\n",
              "      <td>3</td>\n",
              "      <td>premeno</td>\n",
              "      <td>leftlow</td>\n",
              "      <td>yes</td>\n",
              "      <td>right</td>\n",
              "      <td>yes</td>\n",
              "      <td>norecurrence</td>\n",
              "    </tr>\n",
              "    <tr>\n",
              "      <th>4</th>\n",
              "      <td>4049</td>\n",
              "      <td>3034.0</td>\n",
              "      <td>NaN</td>\n",
              "      <td>2</td>\n",
              "      <td>premeno</td>\n",
              "      <td>rightup</td>\n",
              "      <td>yes</td>\n",
              "      <td>left</td>\n",
              "      <td>no</td>\n",
              "      <td>recurrence</td>\n",
              "    </tr>\n",
              "  </tbody>\n",
              "</table>\n",
              "</div>"
            ],
            "text/plain": [
              "    age  tumor-size  inv-nodes  ...  breast irradiat         Class\n",
              "0  4049      1519.0        2.0  ...   right       no    recurrence\n",
              "1  5059      1519.0        2.0  ...   right       no  norecurrence\n",
              "2  5059      3539.0        2.0  ...    left       no    recurrence\n",
              "3  4049      3539.0        2.0  ...   right      yes  norecurrence\n",
              "4  4049      3034.0        NaN  ...    left       no    recurrence\n",
              "\n",
              "[5 rows x 10 columns]"
            ]
          },
          "metadata": {
            "tags": []
          },
          "execution_count": 29
        }
      ]
    },
    {
      "cell_type": "code",
      "metadata": {
        "id": "O1L9C6gxxskC",
        "colab_type": "code",
        "colab": {
          "base_uri": "https://localhost:8080/",
          "height": 326
        },
        "outputId": "6664a8c0-69fe-45c9-e1a0-343e158f6bfd"
      },
      "source": [
        "raw_data.info()"
      ],
      "execution_count": null,
      "outputs": [
        {
          "output_type": "stream",
          "text": [
            "<class 'pandas.core.frame.DataFrame'>\n",
            "RangeIndex: 286 entries, 0 to 285\n",
            "Data columns (total 10 columns):\n",
            " #   Column       Non-Null Count  Dtype  \n",
            "---  ------       --------------  -----  \n",
            " 0   age          286 non-null    int64  \n",
            " 1   tumor-size   254 non-null    float64\n",
            " 2   inv-nodes    220 non-null    float64\n",
            " 3   deg-malig    286 non-null    int64  \n",
            " 4   menopause    286 non-null    object \n",
            " 5   breast-quad  286 non-null    object \n",
            " 6   node-caps    286 non-null    object \n",
            " 7   breast       286 non-null    object \n",
            " 8   irradiat     286 non-null    object \n",
            " 9   Class        286 non-null    object \n",
            "dtypes: float64(2), int64(2), object(6)\n",
            "memory usage: 22.5+ KB\n"
          ],
          "name": "stdout"
        }
      ]
    },
    {
      "cell_type": "markdown",
      "metadata": {
        "id": "H7N7WJbAL6nF",
        "colab_type": "text"
      },
      "source": [
        "###Outlier Analysis"
      ]
    },
    {
      "cell_type": "code",
      "metadata": {
        "id": "BUuhyfoaJlOy",
        "colab_type": "code",
        "colab": {
          "base_uri": "https://localhost:8080/",
          "height": 446
        },
        "outputId": "889000ef-f873-433a-8a78-878d83c8ae87"
      },
      "source": [
        "fig, ax = plt.subplots(figsize=(16,8))\n",
        "ax.scatter(raw_data['age'], raw_data['tumor-size'])\n",
        "ax.set_xlabel('Age')\n",
        "ax.set_ylabel('Tumor Size')\n",
        "plt.show()"
      ],
      "execution_count": null,
      "outputs": [
        {
          "output_type": "display_data",
          "data": {
            "image/png": "[encoded data removed]",
            "text/plain": [
              "<Figure size 1152x576 with 1 Axes>"
            ]
          },
          "metadata": {
            "tags": [],
            "needs_background": "light"
          }
        }
      ]
    },
    {
      "cell_type": "markdown",
      "metadata": {
        "id": "ioVbGkEOMEgQ",
        "colab_type": "text"
      },
      "source": [
        "*No key outliers that need to be removed from the data* "
      ]
    },
    {
      "cell_type": "code",
      "metadata": {
        "id": "Pu7SZtbYQ_mB",
        "colab_type": "code",
        "colab": {
          "base_uri": "https://localhost:8080/",
          "height": 289
        },
        "outputId": "d59546d2-a8db-4d4f-d86e-5f27851e8220"
      },
      "source": [
        "corr = raw_data.corr()\n",
        "sns.heatmap(corr, xticklabels=corr.columns, yticklabels=corr.columns, cmap=sns.diverging_palette(220, 10, as_cmap=True))"
      ],
      "execution_count": null,
      "outputs": [
        {
          "output_type": "execute_result",
          "data": {
            "text/plain": [
              "<matplotlib.axes._subplots.AxesSubplot at 0x7f73c706ff28>"
            ]
          },
          "metadata": {
            "tags": []
          },
          "execution_count": 32
        },
        {
          "output_type": "display_data",
          "data": {
            "image/png": "[encoded data removed]",
            "text/plain": [
              "<Figure size 432x288 with 2 Axes>"
            ]
          },
          "metadata": {
            "tags": [],
            "needs_background": "light"
          }
        }
      ]
    },
    {
      "cell_type": "code",
      "metadata": {
        "id": "d39vFb9bReIM",
        "colab_type": "code",
        "colab": {
          "base_uri": "https://localhost:8080/",
          "height": 529
        },
        "outputId": "118c94d7-494b-419c-d2dd-041960d9e130"
      },
      "source": [
        "raw_data.plot(kind='box', subplots=True, sharex=False, sharey=False)\n",
        "plt.show()\n",
        "\n",
        "raw_data.hist()\n",
        "plt.show()"
      ],
      "execution_count": null,
      "outputs": [
        {
          "output_type": "display_data",
          "data": {
            "image/png": "[encoded data removed]",
            "text/plain": [
              "<Figure size 432x288 with 4 Axes>"
            ]
          },
          "metadata": {
            "tags": [],
            "needs_background": "light"
          }
        },
        {
          "output_type": "display_data",
          "data": {
            "image/png": "[encoded data removed]",
            "text/plain": [
              "<Figure size 432x288 with 4 Axes>"
            ]
          },
          "metadata": {
            "tags": [],
            "needs_background": "light"
          }
        }
      ]
    },
    {
      "cell_type": "markdown",
      "metadata": {
        "id": "z5Q6TLBBHyRE",
        "colab_type": "text"
      },
      "source": [
        "###Creating X and y variables"
      ]
    },
    {
      "cell_type": "code",
      "metadata": {
        "id": "VoDJawRmHr3T",
        "colab_type": "code",
        "colab": {}
      },
      "source": [
        "X = raw_data.iloc[:, :-1].values\n",
        "y = raw_data.iloc[:, -1].values"
      ],
      "execution_count": null,
      "outputs": []
    },
    {
      "cell_type": "markdown",
      "metadata": {
        "id": "9tDILWUiHXJC",
        "colab_type": "text"
      },
      "source": [
        "###Replacing NaN values with Mode"
      ]
    },
    {
      "cell_type": "code",
      "metadata": {
        "id": "tldhMHC7q5Py",
        "colab_type": "code",
        "colab": {}
      },
      "source": [
        "from sklearn.impute import SimpleImputer\n",
        "imputer = SimpleImputer(missing_values=np.nan, strategy='most_frequent')\n",
        "imputer.fit(X[:, 1:3])\n",
        "X[:, 1:3] = imputer.transform(X[:, 1:3])"
      ],
      "execution_count": null,
      "outputs": []
    },
    {
      "cell_type": "markdown",
      "metadata": {
        "id": "gnTgQdWuJPa1",
        "colab_type": "text"
      },
      "source": [
        "###Encoding the Independent Variable"
      ]
    },
    {
      "cell_type": "code",
      "metadata": {
        "id": "tNhnlQhl5mfg",
        "colab_type": "code",
        "colab": {}
      },
      "source": [
        "from sklearn.compose import ColumnTransformer\n",
        "from sklearn.preprocessing import OneHotEncoder\n",
        "ct = ColumnTransformer(transformers=[('encoder', OneHotEncoder(), [4,5,6,7,8])], remainder='passthrough')\n",
        "X = np.array(ct.fit_transform(X))"
      ],
      "execution_count": null,
      "outputs": []
    },
    {
      "cell_type": "markdown",
      "metadata": {
        "id": "aiqFYaHQ4NWS",
        "colab_type": "text"
      },
      "source": [
        "###Encoding the Dependent Variable"
      ]
    },
    {
      "cell_type": "code",
      "metadata": {
        "id": "_hQrfRLQ4TnU",
        "colab_type": "code",
        "colab": {}
      },
      "source": [
        "from sklearn.preprocessing import LabelEncoder\n",
        "le = LabelEncoder()\n",
        "y = le.fit_transform(y)"
      ],
      "execution_count": null,
      "outputs": []
    },
    {
      "cell_type": "markdown",
      "metadata": {
        "id": "kssJh5BS9RP7",
        "colab_type": "text"
      },
      "source": [
        "###Splitting the data into Train and Test set"
      ]
    },
    {
      "cell_type": "code",
      "metadata": {
        "id": "XixVCpF94Zqj",
        "colab_type": "code",
        "colab": {}
      },
      "source": [
        "from sklearn.model_selection import train_test_split\n",
        "X_train, X_test, y_train, y_test = train_test_split(X, y, test_size = 0.2, random_state = 1)"
      ],
      "execution_count": null,
      "outputs": []
    },
    {
      "cell_type": "markdown",
      "metadata": {
        "id": "2jb5myGk5R1J",
        "colab_type": "text"
      },
      "source": [
        "###Feature Scaling"
      ]
    },
    {
      "cell_type": "code",
      "metadata": {
        "id": "OAuypAdi5RK9",
        "colab_type": "code",
        "colab": {}
      },
      "source": [
        "from sklearn.preprocessing import StandardScaler\n",
        "sc = StandardScaler()\n",
        "X_train = sc.fit_transform(X_train)\n",
        "X_test = sc.transform(X_test)"
      ],
      "execution_count": null,
      "outputs": []
    },
    {
      "cell_type": "markdown",
      "metadata": {
        "id": "0p0LuLso8Wye",
        "colab_type": "text"
      },
      "source": [
        "##Training the Model"
      ]
    },
    {
      "cell_type": "code",
      "metadata": {
        "id": "WAf5nDzG8NZf",
        "colab_type": "code",
        "colab": {
          "base_uri": "https://localhost:8080/",
          "height": 136
        },
        "outputId": "0c91b83e-9171-40cc-efe2-5242ea077faf"
      },
      "source": [
        "from xgboost import XGBClassifier\n",
        "model = XGBClassifier()\n",
        "model.fit(X_train, y_train)"
      ],
      "execution_count": null,
      "outputs": [
        {
          "output_type": "execute_result",
          "data": {
            "text/plain": [
              "XGBClassifier(base_score=0.5, booster='gbtree', colsample_bylevel=1,\n",
              "              colsample_bynode=1, colsample_bytree=1, gamma=0,\n",
              "              learning_rate=0.1, max_delta_step=0, max_depth=3,\n",
              "              min_child_weight=1, missing=None, n_estimators=100, n_jobs=1,\n",
              "              nthread=None, objective='binary:logistic', random_state=0,\n",
              "              reg_alpha=0, reg_lambda=1, scale_pos_weight=1, seed=None,\n",
              "              silent=None, subsample=1, verbosity=1)"
            ]
          },
          "metadata": {
            "tags": []
          },
          "execution_count": 39
        }
      ]
    },
    {
      "cell_type": "code",
      "metadata": {
        "id": "d-yjXv_K2jMi",
        "colab_type": "code",
        "colab": {}
      },
      "source": [
        "#from catboost import CatBoostClassifier\n",
        "#model = CatBoostClassifier()\n",
        "#model.fit(X_train, y_train)"
      ],
      "execution_count": null,
      "outputs": []
    },
    {
      "cell_type": "markdown",
      "metadata": {
        "id": "Csoc5fdA8egw",
        "colab_type": "text"
      },
      "source": [
        "##Using the model to make a prediction"
      ]
    },
    {
      "cell_type": "markdown",
      "metadata": {
        "id": "otc2ZcAY_ZVs",
        "colab_type": "text"
      },
      "source": [
        "###Predict Test Set Results"
      ]
    },
    {
      "cell_type": "code",
      "metadata": {
        "id": "rwzNkFxJ_eSR",
        "colab_type": "code",
        "colab": {}
      },
      "source": [
        "y_pred = model.predict(X_test)"
      ],
      "execution_count": null,
      "outputs": []
    },
    {
      "cell_type": "markdown",
      "metadata": {
        "id": "ApjcukFt8qH9",
        "colab_type": "text"
      },
      "source": [
        "##Model Accuracy"
      ]
    },
    {
      "cell_type": "markdown",
      "metadata": {
        "id": "ze9E-KgwAn9z",
        "colab_type": "text"
      },
      "source": [
        "###Cofusion Matrix"
      ]
    },
    {
      "cell_type": "code",
      "metadata": {
        "id": "kjiXnzpp8NZy",
        "colab_type": "code",
        "colab": {
          "base_uri": "https://localhost:8080/",
          "height": 88
        },
        "outputId": "339d1d6c-c0d6-4e0e-a001-e486d6da58f1"
      },
      "source": [
        "from sklearn.metrics import confusion_matrix, accuracy_score\n",
        "cm = confusion_matrix(y_test, y_pred)\n",
        "print(cm)\n",
        "accuracy_score(y_test, y_pred)"
      ],
      "execution_count": null,
      "outputs": [
        {
          "output_type": "stream",
          "text": [
            "[[35  3]\n",
            " [11  9]]\n"
          ],
          "name": "stdout"
        },
        {
          "output_type": "execute_result",
          "data": {
            "text/plain": [
              "0.7586206896551724"
            ]
          },
          "metadata": {
            "tags": []
          },
          "execution_count": 42
        }
      ]
    },
    {
      "cell_type": "markdown",
      "metadata": {
        "id": "0vEnU_UBMvNr",
        "colab_type": "text"
      },
      "source": [
        "###Applying k-Fold Cross Validation"
      ]
    },
    {
      "cell_type": "code",
      "metadata": {
        "id": "qcA809wqyQuf",
        "colab_type": "code",
        "colab": {
          "base_uri": "https://localhost:8080/",
          "height": 71
        },
        "outputId": "2f6a4960-c0aa-4d0c-9a10-914cc6d11e5f"
      },
      "source": [
        "from sklearn.model_selection import cross_val_score\n",
        "accuracies = cross_val_score(estimator = model, X = X_train, y = y_train, cv = 10)\n",
        "print(\"Accuracy: {:.2f} %\".format(accuracies.mean()*100))\n",
        "print(\"Standard Deviation: {:.2f} %\".format(accuracies.std()*100))"
      ],
      "execution_count": null,
      "outputs": [
        {
          "output_type": "stream",
          "text": [
            "Accuracy: 70.99 %\n",
            "Standard Deviation: 6.25 %\n"
          ],
          "name": "stdout"
        }
      ]
    },
    {
      "cell_type": "markdown",
      "metadata": {
        "id": "661HYynYC42o",
        "colab_type": "text"
      },
      "source": [
        "##Predicting a New Result"
      ]
    },
    {
      "cell_type": "markdown",
      "metadata": {
        "id": "tFfW7SMrDAfi",
        "colab_type": "text"
      },
      "source": [
        "Data must be input using the following format\n",
        "\n",
        "\n",
        "---\n",
        "\n",
        "\n",
        "![image.png](data:image/png;base64,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)"
      ]
    },
    {
      "cell_type": "code",
      "metadata": {
        "id": "tDExoCDLePQI",
        "colab_type": "code",
        "colab": {}
      },
      "source": [
        "age = \n",
        "tumor_size = \n",
        "inv_nodes =\n",
        "deg_malig = \n",
        "menopause = \n",
        "breast_quad = \n",
        "node_caps = \n",
        "breast = \n",
        "irradiat = "
      ],
      "execution_count": null,
      "outputs": []
    },
    {
      "cell_type": "code",
      "metadata": {
        "id": "UMbePiUsfuYS",
        "colab_type": "code",
        "colab": {}
      },
      "source": [
        "sample = pd.DataFrame({'age' : [age],'tumor-size': [tumor_size],'inv-nodes':[inv_nodes],'deg-malig':[deg_malig],'menopause':['menopause'], 'breast-quad':['breast_quad'],\t'node-caps':['node_caps'], 'breast':['breast'], 'irradiat':['irradiat']})"
      ],
      "execution_count": null,
      "outputs": []
    },
    {
      "cell_type": "code",
      "metadata": {
        "id": "o9P_q8qVfyUd",
        "colab_type": "code",
        "colab": {}
      },
      "source": [
        "sample = np.array(ct.transform(sample))"
      ],
      "execution_count": null,
      "outputs": []
    },
    {
      "cell_type": "code",
      "metadata": {
        "id": "gqz_1iRif1Qs",
        "colab_type": "code",
        "colab": {}
      },
      "source": [
        "print(model.predict(sc.transform(sample)))"
      ],
      "execution_count": null,
      "outputs": []
    },
    {
      "cell_type": "markdown",
      "metadata": {
        "id": "xn4TKNpYf2r-",
        "colab_type": "text"
      },
      "source": [
        "Recurrence = 1\n",
        "No recurrence = 0"
      ]
    }
  ]
}